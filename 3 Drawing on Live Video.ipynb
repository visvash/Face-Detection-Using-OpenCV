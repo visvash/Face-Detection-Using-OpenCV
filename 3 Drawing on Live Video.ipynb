{
 "cells": [
  {
   "cell_type": "code",
   "execution_count": 1,
   "metadata": {},
   "outputs": [],
   "source": [
    "import cv2"
   ]
  },
  {
   "cell_type": "code",
   "execution_count": 2,
   "metadata": {},
   "outputs": [],
   "source": [
    "cap = cv2.VideoCapture(0)\n",
    "\n",
    "#width and height of video frame\n",
    "width = int(cap.get(cv2.CAP_PROP_FRAME_WIDTH))\n",
    "height = int(cap.get(cv2.CAP_PROP_FRAME_HEIGHT))\n",
    "\n",
    "x = width//2\n",
    "y = height//2\n",
    "\n",
    "# rectangle's dimensions (say 1/4 of video screen)\n",
    "w = width//4\n",
    "h = height//4\n",
    "\n",
    "\n",
    "while True:\n",
    "    ret, frame = cap.read()\n",
    "    \n",
    "    #rectngular frame\n",
    "    cv2.rectangle(frame, (x,y),\n",
    "                 (x+w, y+h),\n",
    "                 color=(255,0,255),\n",
    "                 thickness=5)\n",
    "    \n",
    "    \n",
    "    #SHOW IT\n",
    "    cv2.imshow('Frame', frame)\n",
    "    \n",
    "    #CLOSSE IT\n",
    "    if cv2.waitKey(3) & 0xFF == 27:\n",
    "        break\n",
    "        \n",
    "#release\n",
    "cap.release()\n",
    "cv2.destroyAllWindows()"
   ]
  },
  {
   "cell_type": "code",
   "execution_count": null,
   "metadata": {},
   "outputs": [],
   "source": []
  }
 ],
 "metadata": {
  "kernelspec": {
   "display_name": "Python 3",
   "language": "python",
   "name": "python3"
  },
  "language_info": {
   "codemirror_mode": {
    "name": "ipython",
    "version": 3
   },
   "file_extension": ".py",
   "mimetype": "text/x-python",
   "name": "python",
   "nbconvert_exporter": "python",
   "pygments_lexer": "ipython3",
   "version": "3.7.4"
  }
 },
 "nbformat": 4,
 "nbformat_minor": 2
}
