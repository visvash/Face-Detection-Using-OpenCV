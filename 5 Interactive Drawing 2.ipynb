{
 "cells": [
  {
   "cell_type": "code",
   "execution_count": 1,
   "metadata": {},
   "outputs": [],
   "source": [
    "import cv2"
   ]
  },
  {
   "cell_type": "code",
   "execution_count": 4,
   "metadata": {},
   "outputs": [],
   "source": [
    "# Callback function for mouse, circle\n",
    "def draw_circle(event,\n",
    "               x,\n",
    "               y,\n",
    "               flags,\n",
    "               param):\n",
    "    \n",
    "    global center, clicked\n",
    "    \n",
    "    # Get the mouse click down and up\n",
    "    # and Track the Center\n",
    "    if event ==  cv2.EVENT_LBUTTONDOWN:\n",
    "        center = (x,y)\n",
    "        clicked= False\n",
    "        \n",
    "    if event == cv2.EVENT_LBUTTONUP:\n",
    "        clicked= True\n",
    "        \n",
    "        \n",
    "# Zero drawing of the circle\n",
    "center = (0,0)\n",
    "clicked= False\n",
    "\n",
    "# Take a video\n",
    "cap = cv2.VideoCapture(0)\n",
    "\n",
    "cv2.namedWindow('Testing')\n",
    "\n",
    "cv2.setMouseCallback('Testing', draw_circle)\n",
    "\n",
    "\n",
    "\n",
    "\n",
    "while True:\n",
    "    ret, frame =  cap.read()\n",
    "    if clicked:\n",
    "        cv2.circle(frame,\n",
    "                  center=center,\n",
    "                  radius=50,\n",
    "                  color=(255,0,255),\n",
    "                  thickness=3)\n",
    "    cv2.imshow('Testing', frame)\n",
    "    \n",
    "    if cv2.waitKey(3) & 0xFF == 27:\n",
    "        break\n",
    "        \n",
    "#NEVER FORGET\n",
    "cap.release()\n",
    "cv2.destroyAllWindows()"
   ]
  },
  {
   "cell_type": "code",
   "execution_count": null,
   "metadata": {},
   "outputs": [],
   "source": []
  }
 ],
 "metadata": {
  "kernelspec": {
   "display_name": "Python 3",
   "language": "python",
   "name": "python3"
  },
  "language_info": {
   "codemirror_mode": {
    "name": "ipython",
    "version": 3
   },
   "file_extension": ".py",
   "mimetype": "text/x-python",
   "name": "python",
   "nbconvert_exporter": "python",
   "pygments_lexer": "ipython3",
   "version": "3.7.4"
  }
 },
 "nbformat": 4,
 "nbformat_minor": 2
}
