{
 "cells": [
  {
   "cell_type": "code",
   "execution_count": 5,
   "metadata": {},
   "outputs": [],
   "source": [
    "import cv2\n",
    "import time"
   ]
  },
  {
   "cell_type": "code",
   "execution_count": 6,
   "metadata": {},
   "outputs": [],
   "source": [
    "cap = cv2.VideoCapture('myvideo.mkv')\n",
    "\n",
    "#incase of wrong path\n",
    "if cap.isOpened() == False:\n",
    "    print(\"Error! Check your file path\")\n",
    "    \n",
    "    \n",
    "while cap.isOpened():\n",
    "    ret, frame =  cap.read()\n",
    "    \n",
    "    \n",
    "    \n",
    "    if ret == True:\n",
    "        \n",
    "    # We wrote it with 20 FPS on the previous lesson\n",
    "    # So, we need a delay of 1/20 if we want to see it\n",
    "    # Uncomment the line below if you want to see it\n",
    "        time.sleep(1/20)\n",
    "    \n",
    "        #SHOW IT\n",
    "        cv2.imshow('frame',frame)\n",
    "        \n",
    "        #Close IT\n",
    "        if cv2.waitKey(15) & 0xFF == 27:\n",
    "            break\n",
    "            \n",
    "            \n",
    "cap.release()\n",
    "cv2.destroyAllWindows()"
   ]
  },
  {
   "cell_type": "code",
   "execution_count": null,
   "metadata": {},
   "outputs": [],
   "source": []
  }
 ],
 "metadata": {
  "kernelspec": {
   "display_name": "Python 3",
   "language": "python",
   "name": "python3"
  },
  "language_info": {
   "codemirror_mode": {
    "name": "ipython",
    "version": 3
   },
   "file_extension": ".py",
   "mimetype": "text/x-python",
   "name": "python",
   "nbconvert_exporter": "python",
   "pygments_lexer": "ipython3",
   "version": "3.7.4"
  }
 },
 "nbformat": 4,
 "nbformat_minor": 2
}
